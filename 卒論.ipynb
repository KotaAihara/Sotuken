{
 "cells": [
  {
   "cell_type": "markdown",
   "id": "4fb35fbc",
   "metadata": {},
   "source": [
    "# VARモデル・共和分分析を用いた死因別死亡率の分析"
   ]
  },
  {
   "cell_type": "code",
   "execution_count": 1,
   "id": "d88c289d",
   "metadata": {
    "vscode": {
     "languageId": "r"
    }
   },
   "outputs": [
    {
     "name": "stderr",
     "output_type": "stream",
     "text": [
      "Loading required package: MASS\n",
      "\n",
      "Loading required package: strucchange\n",
      "\n",
      "Loading required package: zoo\n",
      "\n",
      "\n",
      "Attaching package: 'zoo'\n",
      "\n",
      "\n",
      "The following objects are masked from 'package:base':\n",
      "\n",
      "    as.Date, as.Date.numeric\n",
      "\n",
      "\n",
      "Loading required package: sandwich\n",
      "\n",
      "Loading required package: urca\n",
      "\n",
      "Loading required package: lmtest\n",
      "\n",
      "Registered S3 method overwritten by 'quantmod':\n",
      "  method            from\n",
      "  as.zoo.data.frame zoo \n",
      "\n",
      "Warning message:\n",
      "\"package 'ggfortify' was built under R version 4.1.3\"\n",
      "Registered S3 methods overwritten by 'ggfortify':\n",
      "  method                 from    \n",
      "  autoplot.Arima         forecast\n",
      "  autoplot.acf           forecast\n",
      "  autoplot.ar            forecast\n",
      "  autoplot.bats          forecast\n",
      "  autoplot.decomposed.ts forecast\n",
      "  autoplot.ets           forecast\n",
      "  autoplot.forecast      forecast\n",
      "  autoplot.stl           forecast\n",
      "  autoplot.ts            forecast\n",
      "  fitted.ar              forecast\n",
      "  fortify.ts             forecast\n",
      "  residuals.ar           forecast\n",
      "\n",
      "Warning message:\n",
      "\"package 'xts' was built under R version 4.1.3\"\n",
      "Warning message:\n",
      "\"package 'tidyverse' was built under R version 4.1.3\"\n",
      "-- \u001b[1mAttaching packages\u001b[22m --------------------------------------- tidyverse 1.3.1 --\n",
      "\n",
      "\u001b[32mv\u001b[39m \u001b[34mtibble \u001b[39m 3.1.3     \u001b[32mv\u001b[39m \u001b[34mdplyr  \u001b[39m 1.0.8\n",
      "\u001b[32mv\u001b[39m \u001b[34mtidyr  \u001b[39m 1.2.0     \u001b[32mv\u001b[39m \u001b[34mstringr\u001b[39m 1.4.0\n",
      "\u001b[32mv\u001b[39m \u001b[34mreadr  \u001b[39m 2.0.2     \u001b[32mv\u001b[39m \u001b[34mforcats\u001b[39m 0.5.1\n",
      "\u001b[32mv\u001b[39m \u001b[34mpurrr  \u001b[39m 0.3.4     \n",
      "\n",
      "Warning message:\n",
      "\"package 'tidyr' was built under R version 4.1.3\"\n",
      "Warning message:\n",
      "\"package 'dplyr' was built under R version 4.1.3\"\n",
      "Warning message:\n",
      "\"package 'forcats' was built under R version 4.1.3\"\n",
      "-- \u001b[1mConflicts\u001b[22m ------------------------------------------ tidyverse_conflicts() --\n",
      "\u001b[31mx\u001b[39m \u001b[34mstringr\u001b[39m::\u001b[32mboundary()\u001b[39m masks \u001b[34mstrucchange\u001b[39m::boundary()\n",
      "\u001b[31mx\u001b[39m \u001b[34mdplyr\u001b[39m::\u001b[32mfilter()\u001b[39m     masks \u001b[34mstats\u001b[39m::filter()\n",
      "\u001b[31mx\u001b[39m \u001b[34mdplyr\u001b[39m::\u001b[32mfirst()\u001b[39m      masks \u001b[34mxts\u001b[39m::first()\n",
      "\u001b[31mx\u001b[39m \u001b[34mdplyr\u001b[39m::\u001b[32mlag()\u001b[39m        masks \u001b[34mstats\u001b[39m::lag()\n",
      "\u001b[31mx\u001b[39m \u001b[34mdplyr\u001b[39m::\u001b[32mlast()\u001b[39m       masks \u001b[34mxts\u001b[39m::last()\n",
      "\u001b[31mx\u001b[39m \u001b[34mdplyr\u001b[39m::\u001b[32mselect()\u001b[39m     masks \u001b[34mMASS\u001b[39m::select()\n",
      "\n"
     ]
    }
   ],
   "source": [
    "library(vars) \n",
    "\n",
    "library(urca)\n",
    "library(ggplot2)\n",
    "\n",
    "library(tsDyn)\n",
    "library(ggfortify)\n",
    "                  # Install & load xts package\n",
    "library(\"xts\")\n",
    "library(tidyverse)"
   ]
  },
  {
   "cell_type": "code",
   "execution_count": 2,
   "id": "fc42de52",
   "metadata": {
    "vscode": {
     "languageId": "r"
    }
   },
   "outputs": [
    {
     "data": {
      "text/html": [
       "'C:/Users/ai190/OneDrive/デスクトップ/M1/Seminor/Rcodes/月別死亡率データ/WHOMD'"
      ],
      "text/latex": [
       "'C:/Users/ai190/OneDrive/デスクトップ/M1/Seminor/Rcodes/月別死亡率データ/WHOMD'"
      ],
      "text/markdown": [
       "'C:/Users/ai190/OneDrive/デスクトップ/M1/Seminor/Rcodes/月別死亡率データ/WHOMD'"
      ],
      "text/plain": [
       "[1] \"C:/Users/ai190/OneDrive/デスクトップ/M1/Seminor/Rcodes/月別死亡率データ/WHOMD\""
      ]
     },
     "metadata": {},
     "output_type": "display_data"
    },
    {
     "name": "stderr",
     "output_type": "stream",
     "text": [
      "\u001b[1mRows: \u001b[22m\u001b[34m9913\u001b[39m \u001b[1mColumns: \u001b[22m\u001b[34m33\u001b[39m\n",
      "\u001b[36m--\u001b[39m \u001b[1mColumn specification\u001b[22m \u001b[36m------------------------------------------------------------------------------------------------\u001b[39m\n",
      "\u001b[1mDelimiter:\u001b[22m \",\"\n",
      "\u001b[31mchr\u001b[39m  (2): SubDiv, Frmat\n",
      "\u001b[32mdbl\u001b[39m (31): Country, Admin1, Year, Sex, Pop1, Pop2, Pop3, Pop4, Pop5, Pop6, Po...\n",
      "\n",
      "\u001b[36mi\u001b[39m Use `spec()` to retrieve the full column specification for this data.\n",
      "\u001b[36mi\u001b[39m Specify the column types or set `show_col_types = FALSE` to quiet this message.\n"
     ]
    },
    {
     "data": {
      "text/html": [
       "<table class=\"dataframe\">\n",
       "<caption>A tibble: 38 × 2</caption>\n",
       "<thead>\n",
       "\t<tr><th scope=col>Year</th><th scope=col>Pop1</th></tr>\n",
       "\t<tr><th scope=col>&lt;dbl&gt;</th><th scope=col>&lt;dbl&gt;</th></tr>\n",
       "</thead>\n",
       "<tbody>\n",
       "\t<tr><td>1979</td><td>57180400</td></tr>\n",
       "\t<tr><td>1980</td><td>57593800</td></tr>\n",
       "\t<tr><td>1981</td><td>58002300</td></tr>\n",
       "\t<tr><td>1982</td><td>58402100</td></tr>\n",
       "\t<tr><td>1983</td><td>58434000</td></tr>\n",
       "\t<tr><td>1984</td><td>58793000</td></tr>\n",
       "\t<tr><td>1985</td><td>59044000</td></tr>\n",
       "\t<tr><td>1986</td><td>59438000</td></tr>\n",
       "\t<tr><td>1987</td><td>59723000</td></tr>\n",
       "\t<tr><td>1988</td><td>59964000</td></tr>\n",
       "\t<tr><td>1989</td><td>60171000</td></tr>\n",
       "\t<tr><td>1990</td><td>60249000</td></tr>\n",
       "\t<tr><td>1991</td><td>60425000</td></tr>\n",
       "\t<tr><td>1992</td><td>60597000</td></tr>\n",
       "\t<tr><td>1993</td><td>60730000</td></tr>\n",
       "\t<tr><td>1994</td><td>60839000</td></tr>\n",
       "\t<tr><td>1995</td><td>60919200</td></tr>\n",
       "\t<tr><td>1996</td><td>61115000</td></tr>\n",
       "\t<tr><td>1997</td><td>61210000</td></tr>\n",
       "\t<tr><td>1998</td><td>61311000</td></tr>\n",
       "\t<tr><td>1999</td><td>61358000</td></tr>\n",
       "\t<tr><td>2000</td><td>61488005</td></tr>\n",
       "\t<tr><td>2001</td><td>61595000</td></tr>\n",
       "\t<tr><td>2002</td><td>61591000</td></tr>\n",
       "\t<tr><td>2003</td><td>61620000</td></tr>\n",
       "\t<tr><td>2004</td><td>61597000</td></tr>\n",
       "\t<tr><td>2005</td><td>61617893</td></tr>\n",
       "\t<tr><td>2006</td><td>61568000</td></tr>\n",
       "\t<tr><td>2007</td><td>61511000</td></tr>\n",
       "\t<tr><td>2008</td><td>61424000</td></tr>\n",
       "\t<tr><td>2009</td><td>61339000</td></tr>\n",
       "\t<tr><td>2010</td><td>61571727</td></tr>\n",
       "\t<tr><td>2011</td><td>61453000</td></tr>\n",
       "\t<tr><td>2012</td><td>61328000</td></tr>\n",
       "\t<tr><td>2013</td><td>61186000</td></tr>\n",
       "\t<tr><td>2014</td><td>61041000</td></tr>\n",
       "\t<tr><td>2015</td><td>61022756</td></tr>\n",
       "\t<tr><td>2016</td><td>60866773</td></tr>\n",
       "</tbody>\n",
       "</table>\n"
      ],
      "text/latex": [
       "A tibble: 38 × 2\n",
       "\\begin{tabular}{ll}\n",
       " Year & Pop1\\\\\n",
       " <dbl> & <dbl>\\\\\n",
       "\\hline\n",
       "\t 1979 & 57180400\\\\\n",
       "\t 1980 & 57593800\\\\\n",
       "\t 1981 & 58002300\\\\\n",
       "\t 1982 & 58402100\\\\\n",
       "\t 1983 & 58434000\\\\\n",
       "\t 1984 & 58793000\\\\\n",
       "\t 1985 & 59044000\\\\\n",
       "\t 1986 & 59438000\\\\\n",
       "\t 1987 & 59723000\\\\\n",
       "\t 1988 & 59964000\\\\\n",
       "\t 1989 & 60171000\\\\\n",
       "\t 1990 & 60249000\\\\\n",
       "\t 1991 & 60425000\\\\\n",
       "\t 1992 & 60597000\\\\\n",
       "\t 1993 & 60730000\\\\\n",
       "\t 1994 & 60839000\\\\\n",
       "\t 1995 & 60919200\\\\\n",
       "\t 1996 & 61115000\\\\\n",
       "\t 1997 & 61210000\\\\\n",
       "\t 1998 & 61311000\\\\\n",
       "\t 1999 & 61358000\\\\\n",
       "\t 2000 & 61488005\\\\\n",
       "\t 2001 & 61595000\\\\\n",
       "\t 2002 & 61591000\\\\\n",
       "\t 2003 & 61620000\\\\\n",
       "\t 2004 & 61597000\\\\\n",
       "\t 2005 & 61617893\\\\\n",
       "\t 2006 & 61568000\\\\\n",
       "\t 2007 & 61511000\\\\\n",
       "\t 2008 & 61424000\\\\\n",
       "\t 2009 & 61339000\\\\\n",
       "\t 2010 & 61571727\\\\\n",
       "\t 2011 & 61453000\\\\\n",
       "\t 2012 & 61328000\\\\\n",
       "\t 2013 & 61186000\\\\\n",
       "\t 2014 & 61041000\\\\\n",
       "\t 2015 & 61022756\\\\\n",
       "\t 2016 & 60866773\\\\\n",
       "\\end{tabular}\n"
      ],
      "text/markdown": [
       "\n",
       "A tibble: 38 × 2\n",
       "\n",
       "| Year &lt;dbl&gt; | Pop1 &lt;dbl&gt; |\n",
       "|---|---|\n",
       "| 1979 | 57180400 |\n",
       "| 1980 | 57593800 |\n",
       "| 1981 | 58002300 |\n",
       "| 1982 | 58402100 |\n",
       "| 1983 | 58434000 |\n",
       "| 1984 | 58793000 |\n",
       "| 1985 | 59044000 |\n",
       "| 1986 | 59438000 |\n",
       "| 1987 | 59723000 |\n",
       "| 1988 | 59964000 |\n",
       "| 1989 | 60171000 |\n",
       "| 1990 | 60249000 |\n",
       "| 1991 | 60425000 |\n",
       "| 1992 | 60597000 |\n",
       "| 1993 | 60730000 |\n",
       "| 1994 | 60839000 |\n",
       "| 1995 | 60919200 |\n",
       "| 1996 | 61115000 |\n",
       "| 1997 | 61210000 |\n",
       "| 1998 | 61311000 |\n",
       "| 1999 | 61358000 |\n",
       "| 2000 | 61488005 |\n",
       "| 2001 | 61595000 |\n",
       "| 2002 | 61591000 |\n",
       "| 2003 | 61620000 |\n",
       "| 2004 | 61597000 |\n",
       "| 2005 | 61617893 |\n",
       "| 2006 | 61568000 |\n",
       "| 2007 | 61511000 |\n",
       "| 2008 | 61424000 |\n",
       "| 2009 | 61339000 |\n",
       "| 2010 | 61571727 |\n",
       "| 2011 | 61453000 |\n",
       "| 2012 | 61328000 |\n",
       "| 2013 | 61186000 |\n",
       "| 2014 | 61041000 |\n",
       "| 2015 | 61022756 |\n",
       "| 2016 | 60866773 |\n",
       "\n"
      ],
      "text/plain": [
       "   Year Pop1    \n",
       "1  1979 57180400\n",
       "2  1980 57593800\n",
       "3  1981 58002300\n",
       "4  1982 58402100\n",
       "5  1983 58434000\n",
       "6  1984 58793000\n",
       "7  1985 59044000\n",
       "8  1986 59438000\n",
       "9  1987 59723000\n",
       "10 1988 59964000\n",
       "11 1989 60171000\n",
       "12 1990 60249000\n",
       "13 1991 60425000\n",
       "14 1992 60597000\n",
       "15 1993 60730000\n",
       "16 1994 60839000\n",
       "17 1995 60919200\n",
       "18 1996 61115000\n",
       "19 1997 61210000\n",
       "20 1998 61311000\n",
       "21 1999 61358000\n",
       "22 2000 61488005\n",
       "23 2001 61595000\n",
       "24 2002 61591000\n",
       "25 2003 61620000\n",
       "26 2004 61597000\n",
       "27 2005 61617893\n",
       "28 2006 61568000\n",
       "29 2007 61511000\n",
       "30 2008 61424000\n",
       "31 2009 61339000\n",
       "32 2010 61571727\n",
       "33 2011 61453000\n",
       "34 2012 61328000\n",
       "35 2013 61186000\n",
       "36 2014 61041000\n",
       "37 2015 61022756\n",
       "38 2016 60866773"
      ]
     },
     "metadata": {},
     "output_type": "display_data"
    }
   ],
   "source": [
    "#ディレクトリの指定\n",
    "setwd(\"C:/Users/ai190/OneDrive/デスクトップ/M1/Seminor/Rcodes/月別死亡率データ/WHOMD\")\n",
    "getwd() \n",
    "\n",
    "\n",
    "#人口データの読み込み\n",
    "pop = read_csv(\"pop\")\n",
    "pop_jp = pop[pop$Country == 3160,1:7]\n",
    "pop_jp_male = pop_jp[pop_jp$Sex == 1 & (pop_jp$Year >= 1979)& (pop_jp$Year <= 2016) ,c(\"Year\",\"Pop1\")]\n",
    "#pop_jp_male"
   ]
  },
  {
   "cell_type": "code",
   "execution_count": 5,
   "id": "b4d33bf7",
   "metadata": {
    "vscode": {
     "languageId": "r"
    }
   },
   "outputs": [
    {
     "data": {
      "text/html": [
       "'C:/Users/ai190/OneDrive/デスクトップ/M1/Seminor/Rcodes/月別死亡率データ/WHOMD'"
      ],
      "text/latex": [
       "'C:/Users/ai190/OneDrive/デスクトップ/M1/Seminor/Rcodes/月別死亡率データ/WHOMD'"
      ],
      "text/markdown": [
       "'C:/Users/ai190/OneDrive/デスクトップ/M1/Seminor/Rcodes/月別死亡率データ/WHOMD'"
      ],
      "text/plain": [
       "[1] \"C:/Users/ai190/OneDrive/デスクトップ/M1/Seminor/Rcodes/月別死亡率データ/WHOMD\""
      ]
     },
     "metadata": {},
     "output_type": "display_data"
    }
   ],
   "source": [
    "#ディレクトリの指定\n",
    "setwd(\"C:/Users/ai190/OneDrive/デスクトップ/M1/Seminor/Rcodes/月別死亡率データ/WHOMD\")\n",
    "getwd() \n",
    "\n",
    "\n",
    "#死亡率データの読み込み\n",
    "MortNum_JP_male = read.csv(\"CoD_Male_JP.csv\", header= T, sep=\",\",fileEncoding = \"UTF-8-BOM\")\n",
    "Mort_rate_jp_male =  MortNum_JP_male[,2:6] / as.matrix(pop_jp_male[2])\n",
    "Mort_rate_jp_male = cbind(year = MortNum_JP_male[,1], Mort_rate_jp_male)"
   ]
  },
  {
   "cell_type": "code",
   "execution_count": 6,
   "id": "213441ff",
   "metadata": {
    "vscode": {
     "languageId": "r"
    }
   },
   "outputs": [
    {
     "data": {
      "text/html": [
       "<table class=\"dataframe\">\n",
       "<caption>A data.frame: 5 × 6</caption>\n",
       "<thead>\n",
       "\t<tr><th></th><th scope=col>year</th><th scope=col>IandP</th><th scope=col>Cancer</th><th scope=col>Circulatory</th><th scope=col>Respiratory</th><th scope=col>External</th></tr>\n",
       "\t<tr><th></th><th scope=col>&lt;int&gt;</th><th scope=col>&lt;dbl&gt;</th><th scope=col>&lt;dbl&gt;</th><th scope=col>&lt;dbl&gt;</th><th scope=col>&lt;dbl&gt;</th><th scope=col>&lt;dbl&gt;</th></tr>\n",
       "</thead>\n",
       "<tbody>\n",
       "\t<tr><th scope=row>1</th><td>1979</td><td>0.0001362180</td><td>0.001634196</td><td>0.002610230</td><td>0.0004904653</td><td>0.0006312827</td></tr>\n",
       "\t<tr><th scope=row>2</th><td>1980</td><td>0.0001306912</td><td>0.001682004</td><td>0.002722932</td><td>0.0005727873</td><td>0.0006239040</td></tr>\n",
       "\t<tr><th scope=row>3</th><td>1981</td><td>0.0001238227</td><td>0.001722966</td><td>0.002643912</td><td>0.0005678223</td><td>0.0006190272</td></tr>\n",
       "\t<tr><th scope=row>4</th><td>1982</td><td>0.0001161260</td><td>0.001754954</td><td>0.002525628</td><td>0.0006009030</td><td>0.0006227173</td></tr>\n",
       "\t<tr><th scope=row>5</th><td>1983</td><td>0.0001226854</td><td>0.001828114</td><td>0.002548448</td><td>0.0006698497</td><td>0.0006912927</td></tr>\n",
       "</tbody>\n",
       "</table>\n"
      ],
      "text/latex": [
       "A data.frame: 5 × 6\n",
       "\\begin{tabular}{r|llllll}\n",
       "  & year & IandP & Cancer & Circulatory & Respiratory & External\\\\\n",
       "  & <int> & <dbl> & <dbl> & <dbl> & <dbl> & <dbl>\\\\\n",
       "\\hline\n",
       "\t1 & 1979 & 0.0001362180 & 0.001634196 & 0.002610230 & 0.0004904653 & 0.0006312827\\\\\n",
       "\t2 & 1980 & 0.0001306912 & 0.001682004 & 0.002722932 & 0.0005727873 & 0.0006239040\\\\\n",
       "\t3 & 1981 & 0.0001238227 & 0.001722966 & 0.002643912 & 0.0005678223 & 0.0006190272\\\\\n",
       "\t4 & 1982 & 0.0001161260 & 0.001754954 & 0.002525628 & 0.0006009030 & 0.0006227173\\\\\n",
       "\t5 & 1983 & 0.0001226854 & 0.001828114 & 0.002548448 & 0.0006698497 & 0.0006912927\\\\\n",
       "\\end{tabular}\n"
      ],
      "text/markdown": [
       "\n",
       "A data.frame: 5 × 6\n",
       "\n",
       "| <!--/--> | year &lt;int&gt; | IandP &lt;dbl&gt; | Cancer &lt;dbl&gt; | Circulatory &lt;dbl&gt; | Respiratory &lt;dbl&gt; | External &lt;dbl&gt; |\n",
       "|---|---|---|---|---|---|---|\n",
       "| 1 | 1979 | 0.0001362180 | 0.001634196 | 0.002610230 | 0.0004904653 | 0.0006312827 |\n",
       "| 2 | 1980 | 0.0001306912 | 0.001682004 | 0.002722932 | 0.0005727873 | 0.0006239040 |\n",
       "| 3 | 1981 | 0.0001238227 | 0.001722966 | 0.002643912 | 0.0005678223 | 0.0006190272 |\n",
       "| 4 | 1982 | 0.0001161260 | 0.001754954 | 0.002525628 | 0.0006009030 | 0.0006227173 |\n",
       "| 5 | 1983 | 0.0001226854 | 0.001828114 | 0.002548448 | 0.0006698497 | 0.0006912927 |\n",
       "\n"
      ],
      "text/plain": [
       "  year IandP        Cancer      Circulatory Respiratory  External    \n",
       "1 1979 0.0001362180 0.001634196 0.002610230 0.0004904653 0.0006312827\n",
       "2 1980 0.0001306912 0.001682004 0.002722932 0.0005727873 0.0006239040\n",
       "3 1981 0.0001238227 0.001722966 0.002643912 0.0005678223 0.0006190272\n",
       "4 1982 0.0001161260 0.001754954 0.002525628 0.0006009030 0.0006227173\n",
       "5 1983 0.0001226854 0.001828114 0.002548448 0.0006698497 0.0006912927"
      ]
     },
     "metadata": {},
     "output_type": "display_data"
    }
   ],
   "source": [
    "Mort_rate_jp_male[1:5,]"
   ]
  },
  {
   "cell_type": "code",
   "execution_count": 7,
   "id": "ba98dca7",
   "metadata": {
    "vscode": {
     "languageId": "r"
    }
   },
   "outputs": [
    {
     "data": {
      "text/plain": [
       "\n",
       "###################### \n",
       "# Johansen-Procedure # \n",
       "###################### \n",
       "\n",
       "Test type: trace statistic , with linear trend \n",
       "\n",
       "Eigenvalues (lambda):\n",
       "[1] 0.65597624 0.58971570 0.40764070 0.17796764 0.06871518\n",
       "\n",
       "Values of teststatistic and critical values of test:\n",
       "\n",
       "          test 10pct  5pct  1pct\n",
       "r <= 4 |  2.56  6.50  8.18 11.65\n",
       "r <= 3 |  9.62 15.66 17.95 23.52\n",
       "r <= 2 | 28.47 28.71 31.52 37.22\n",
       "r <= 1 | 60.54 45.23 48.28 55.43\n",
       "r = 0  | 98.96 66.49 70.60 78.87\n",
       "\n",
       "Eigenvectors, normalised to first column:\n",
       "(These are the cointegration relations)\n",
       "\n",
       "                 IandP.l1  Cancer.l1 Circulatory.l1 Respiratory.l1 External.l1\n",
       "IandP.l1        1.0000000  1.0000000       1.000000        1.00000   1.0000000\n",
       "Cancer.l1      -3.4544520 -1.9099461      73.807695       43.78709  -1.0258998\n",
       "Circulatory.l1 -1.7247708 -1.9989456       2.050872       90.65947  -0.3835259\n",
       "Respiratory.l1  1.3572715  0.9703925     -45.813662      -32.61201   2.6637540\n",
       "External.l1     0.3444682 -0.1228856     -35.967639      -14.53336  -9.8887166\n",
       "\n",
       "Weights W:\n",
       "(This is the loading matrix)\n",
       "\n",
       "                  IandP.l1    Cancer.l1 Circulatory.l1 Respiratory.l1\n",
       "IandP.d       -0.051746231 -0.182159065   0.0031102795   -0.005540927\n",
       "Cancer.d       0.059149899  0.003234939   0.0009292549   -0.001144057\n",
       "Circulatory.d -0.113709520 -0.119583759   0.0035059207   -0.001525925\n",
       "Respiratory.d -0.048789335 -0.642297580   0.0052901665   -0.001440652\n",
       "External.d    -0.006128853  0.222657959   0.0141006581   -0.001295406\n",
       "               External.l1\n",
       "IandP.d        0.007902387\n",
       "Cancer.d      -0.000739635\n",
       "Circulatory.d -0.003183839\n",
       "Respiratory.d  0.002850506\n",
       "External.d     0.009344539\n"
      ]
     },
     "metadata": {},
     "output_type": "display_data"
    }
   ],
   "source": [
    "ts = log(Mort_rate_jp_male[,2:6])\n",
    "jo = ca.jo(log_mort_ts, type = \"trace\", ecdet = \"none\", K = 2, spec = \"transitory\")\n",
    "summary(jo)"
   ]
  },
  {
   "cell_type": "code",
   "execution_count": 43,
   "id": "8982d433",
   "metadata": {
    "vscode": {
     "languageId": "r"
    }
   },
   "outputs": [
    {
     "data": {
      "text/plain": [
       "              Length Class  Mode   \n",
       "deterministic   5    -none- numeric\n",
       "A               2    -none- list   \n",
       "p               1    -none- numeric\n",
       "K               1    -none- numeric\n",
       "y             190    -none- numeric\n",
       "obs             1    -none- numeric\n",
       "totobs          1    -none- numeric\n",
       "call            3    -none- call   \n",
       "vecm            1    ca.jo  S4     \n",
       "datamat       576    -none- numeric\n",
       "resid         180    -none- numeric\n",
       "r               1    -none- numeric"
      ]
     },
     "metadata": {},
     "output_type": "display_data"
    }
   ],
   "source": [
    "mort.vec2var = vec2var(jo,r = 2)\n",
    "summary(mort.vec2var)"
   ]
  },
  {
   "cell_type": "code",
   "execution_count": 53,
   "id": "9b8b5271",
   "metadata": {
    "vscode": {
     "languageId": "r"
    }
   },
   "outputs": [],
   "source": [
    "#vec2var_cod$A\n",
    "resid_m = mort.vec2var$resid\n",
    "matcov = as.matrix(cov(resid_m, y = resid_m))\n",
    "sigma_resid_diag = diag(matcov)\n",
    "\n",
    "#sigma_resid_trace\n",
    "rooted_sigma_resid_m = sqrt(sigma_resid_diag)\n",
    "#rooted_sigma_resid_m\n"
   ]
  },
  {
   "cell_type": "code",
   "execution_count": 67,
   "id": "2bb4e32a",
   "metadata": {
    "vscode": {
     "languageId": "r"
    }
   },
   "outputs": [
    {
     "data": {
      "text/html": [
       "<table class=\"dataframe\">\n",
       "<caption>A data.frame: 11 × 6</caption>\n",
       "<thead>\n",
       "\t<tr><th scope=col>time</th><th scope=col>IandP</th><th scope=col>Cancer</th><th scope=col>Circulatory</th><th scope=col>Respiratory</th><th scope=col>External</th></tr>\n",
       "\t<tr><th scope=col>&lt;dbl&gt;</th><th scope=col>&lt;dbl&gt;</th><th scope=col>&lt;dbl&gt;</th><th scope=col>&lt;dbl&gt;</th><th scope=col>&lt;dbl&gt;</th><th scope=col>&lt;dbl&gt;</th></tr>\n",
       "</thead>\n",
       "<tbody>\n",
       "\t<tr><td> 0</td><td>0.9860133</td><td>0.1150532</td><td>0.2010228</td><td> 0.47523314</td><td>0.7155125</td></tr>\n",
       "\t<tr><td> 1</td><td>1.2367263</td><td>0.2484466</td><td>0.1838725</td><td> 0.05184457</td><td>0.5563933</td></tr>\n",
       "\t<tr><td> 2</td><td>1.1993689</td><td>0.2810001</td><td>0.1412809</td><td>-0.09158623</td><td>0.5554897</td></tr>\n",
       "\t<tr><td> 3</td><td>1.1665855</td><td>0.2828208</td><td>0.1430336</td><td>-0.18239796</td><td>0.6145446</td></tr>\n",
       "\t<tr><td> 4</td><td>1.1272151</td><td>0.2734395</td><td>0.1326489</td><td>-0.23326702</td><td>0.6110925</td></tr>\n",
       "\t<tr><td> 5</td><td>1.1110747</td><td>0.2635045</td><td>0.1330487</td><td>-0.24991533</td><td>0.6173786</td></tr>\n",
       "\t<tr><td> 6</td><td>1.1034415</td><td>0.2542040</td><td>0.1355816</td><td>-0.26378771</td><td>0.6163032</td></tr>\n",
       "\t<tr><td> 7</td><td>1.0982177</td><td>0.2454586</td><td>0.1376413</td><td>-0.27366591</td><td>0.6121359</td></tr>\n",
       "\t<tr><td> 8</td><td>1.0951764</td><td>0.2373585</td><td>0.1404946</td><td>-0.28198983</td><td>0.6089106</td></tr>\n",
       "\t<tr><td> 9</td><td>1.0924325</td><td>0.2297091</td><td>0.1430736</td><td>-0.29017611</td><td>0.6051292</td></tr>\n",
       "\t<tr><td>10</td><td>1.0899514</td><td>0.2224649</td><td>0.1455553</td><td>-0.29773683</td><td>0.6015724</td></tr>\n",
       "</tbody>\n",
       "</table>\n"
      ],
      "text/latex": [
       "A data.frame: 11 × 6\n",
       "\\begin{tabular}{llllll}\n",
       " time & IandP & Cancer & Circulatory & Respiratory & External\\\\\n",
       " <dbl> & <dbl> & <dbl> & <dbl> & <dbl> & <dbl>\\\\\n",
       "\\hline\n",
       "\t  0 & 0.9860133 & 0.1150532 & 0.2010228 &  0.47523314 & 0.7155125\\\\\n",
       "\t  1 & 1.2367263 & 0.2484466 & 0.1838725 &  0.05184457 & 0.5563933\\\\\n",
       "\t  2 & 1.1993689 & 0.2810001 & 0.1412809 & -0.09158623 & 0.5554897\\\\\n",
       "\t  3 & 1.1665855 & 0.2828208 & 0.1430336 & -0.18239796 & 0.6145446\\\\\n",
       "\t  4 & 1.1272151 & 0.2734395 & 0.1326489 & -0.23326702 & 0.6110925\\\\\n",
       "\t  5 & 1.1110747 & 0.2635045 & 0.1330487 & -0.24991533 & 0.6173786\\\\\n",
       "\t  6 & 1.1034415 & 0.2542040 & 0.1355816 & -0.26378771 & 0.6163032\\\\\n",
       "\t  7 & 1.0982177 & 0.2454586 & 0.1376413 & -0.27366591 & 0.6121359\\\\\n",
       "\t  8 & 1.0951764 & 0.2373585 & 0.1404946 & -0.28198983 & 0.6089106\\\\\n",
       "\t  9 & 1.0924325 & 0.2297091 & 0.1430736 & -0.29017611 & 0.6051292\\\\\n",
       "\t 10 & 1.0899514 & 0.2224649 & 0.1455553 & -0.29773683 & 0.6015724\\\\\n",
       "\\end{tabular}\n"
      ],
      "text/markdown": [
       "\n",
       "A data.frame: 11 × 6\n",
       "\n",
       "| time &lt;dbl&gt; | IandP &lt;dbl&gt; | Cancer &lt;dbl&gt; | Circulatory &lt;dbl&gt; | Respiratory &lt;dbl&gt; | External &lt;dbl&gt; |\n",
       "|---|---|---|---|---|---|\n",
       "|  0 | 0.9860133 | 0.1150532 | 0.2010228 |  0.47523314 | 0.7155125 |\n",
       "|  1 | 1.2367263 | 0.2484466 | 0.1838725 |  0.05184457 | 0.5563933 |\n",
       "|  2 | 1.1993689 | 0.2810001 | 0.1412809 | -0.09158623 | 0.5554897 |\n",
       "|  3 | 1.1665855 | 0.2828208 | 0.1430336 | -0.18239796 | 0.6145446 |\n",
       "|  4 | 1.1272151 | 0.2734395 | 0.1326489 | -0.23326702 | 0.6110925 |\n",
       "|  5 | 1.1110747 | 0.2635045 | 0.1330487 | -0.24991533 | 0.6173786 |\n",
       "|  6 | 1.1034415 | 0.2542040 | 0.1355816 | -0.26378771 | 0.6163032 |\n",
       "|  7 | 1.0982177 | 0.2454586 | 0.1376413 | -0.27366591 | 0.6121359 |\n",
       "|  8 | 1.0951764 | 0.2373585 | 0.1404946 | -0.28198983 | 0.6089106 |\n",
       "|  9 | 1.0924325 | 0.2297091 | 0.1430736 | -0.29017611 | 0.6051292 |\n",
       "| 10 | 1.0899514 | 0.2224649 | 0.1455553 | -0.29773683 | 0.6015724 |\n",
       "\n"
      ],
      "text/plain": [
       "   time IandP     Cancer    Circulatory Respiratory External \n",
       "1   0   0.9860133 0.1150532 0.2010228    0.47523314 0.7155125\n",
       "2   1   1.2367263 0.2484466 0.1838725    0.05184457 0.5563933\n",
       "3   2   1.1993689 0.2810001 0.1412809   -0.09158623 0.5554897\n",
       "4   3   1.1665855 0.2828208 0.1430336   -0.18239796 0.6145446\n",
       "5   4   1.1272151 0.2734395 0.1326489   -0.23326702 0.6110925\n",
       "6   5   1.1110747 0.2635045 0.1330487   -0.24991533 0.6173786\n",
       "7   6   1.1034415 0.2542040 0.1355816   -0.26378771 0.6163032\n",
       "8   7   1.0982177 0.2454586 0.1376413   -0.27366591 0.6121359\n",
       "9   8   1.0951764 0.2373585 0.1404946   -0.28198983 0.6089106\n",
       "10  9   1.0924325 0.2297091 0.1430736   -0.29017611 0.6051292\n",
       "11 10   1.0899514 0.2224649 0.1455553   -0.29773683 0.6015724"
      ]
     },
     "metadata": {},
     "output_type": "display_data"
    }
   ],
   "source": [
    "# Impulse Responce\n",
    "N_ahead = 10\n",
    "irfIandP = irf(mort.vec2var, impulse = \"IandP\", n.ahead = N_ahead,\n",
    "ortho = TRUE, cumulative = FALSE, boot = TRUE, ci = 0.95,\n",
    "runs = 100, seed = 234)\n",
    "\n",
    "\n",
    "irfIandP_scaled = irfIandP$irf$IandP / rooted_sigma_resid_m[1]\n",
    "irf_time = as.data.frame(seq(0,length.out = 11 ))\n",
    "\n",
    "irfIandP_scaled_df = as.data.frame(irfIandP_scaled) \n",
    "\n",
    "irfIandP_scaled_df = cbind(time = irf_time , irfIandP_scaled_df)\n",
    "colnames(irfIandP_scaled_df)[1] = \"time\"\n",
    "irfIandP_scaled_df\n",
    "\n"
   ]
  },
  {
   "cell_type": "code",
   "execution_count": 86,
   "id": "cd6575be",
   "metadata": {
    "vscode": {
     "languageId": "r"
    }
   },
   "outputs": [
    {
     "data": {
      "image/png": "[encoded data removed]",
      "text/plain": [
       "plot without title"
      ]
     },
     "metadata": {
      "image/png": {
       "height": 420,
       "width": 420
      }
     },
     "output_type": "display_data"
    }
   ],
   "source": [
    "tid_IandP <- irfIandP_scaled_df %>% \n",
    "  tidyr::gather(key = cause, value = vals,IandP,Cancer,Circulatory,Respiratory,External)\n",
    "colnames(tid_IandP) <- c(\"time\", \"variable\", \"Responce\")\n",
    "\n",
    "\n",
    "g = ggplot(data = tid_IandP)+\n",
    "  geom_line( aes(x = time, y = Responce ,color = \"value\",linetype = variable),size = 1.4)\n",
    "g = g +  scale_color_brewer(palette = \"PRGn\")\n",
    "g"
   ]
  },
  {
   "cell_type": "code",
   "execution_count": 8,
   "id": "16ac313c",
   "metadata": {
    "vscode": {
     "languageId": "r"
    }
   },
   "outputs": [
    {
     "name": "stderr",
     "output_type": "stream",
     "text": [
      "Warning message:\n",
      "\"package 'BVAR' was built under R version 4.1.3\"\n",
      "\n",
      "Attaching package: 'BVAR'\n",
      "\n",
      "\n",
      "The following objects are masked from 'package:tsDyn':\n",
      "\n",
      "    fevd, irf\n",
      "\n",
      "\n",
      "The following objects are masked from 'package:vars':\n",
      "\n",
      "    fevd, irf\n",
      "\n",
      "\n"
     ]
    }
   ],
   "source": [
    "#BVAR\n",
    "library(BVAR)"
   ]
  },
  {
   "cell_type": "code",
   "execution_count": 16,
   "id": "45afbb96",
   "metadata": {
    "vscode": {
     "languageId": "r"
    }
   },
   "outputs": [
    {
     "name": "stderr",
     "output_type": "stream",
     "text": [
      "Warning message:\n",
      "\"package 'bvartools' was built under R version 4.1.3\"\n",
      "Loading required package: coda\n",
      "\n",
      "Registered S3 methods overwritten by 'bvartools':\n",
      "  method       from\n",
      "  plot.bvar    BVAR\n",
      "  predict.bvar BVAR\n",
      "  summary.bvar BVAR\n",
      "\n",
      "\n",
      "Attaching package: 'bvartools'\n",
      "\n",
      "\n",
      "The following objects are masked from 'package:BVAR':\n",
      "\n",
      "    bvar, fevd, irf\n",
      "\n",
      "\n",
      "The following objects are masked from 'package:tsDyn':\n",
      "\n",
      "    fevd, irf\n",
      "\n",
      "\n",
      "The following objects are masked from 'package:vars':\n",
      "\n",
      "    fevd, irf\n",
      "\n",
      "\n"
     ]
    },
    {
     "ename": "ERROR",
     "evalue": "Error in eval(expr, envir, enclos): object 'k_x' not found\n",
     "output_type": "error",
     "traceback": [
      "Error in eval(expr, envir, enclos): object 'k_x' not found\nTraceback:\n"
     ]
    }
   ],
   "source": [
    "library(bvartools)\n",
    "# Number of non-deterministic coefficients\n"
   ]
  },
  {
   "cell_type": "code",
   "execution_count": 35,
   "id": "43e28639",
   "metadata": {
    "vscode": {
     "languageId": "r"
    }
   },
   "outputs": [
    {
     "data": {
      "text/html": [
       "<table class=\"dataframe\">\n",
       "<caption>A Time Series: 38 × 5</caption>\n",
       "<thead>\n",
       "\t<tr><th></th><th scope=col>IandP</th><th scope=col>Cancer</th><th scope=col>Circulatory</th><th scope=col>Respiratory</th><th scope=col>External</th></tr>\n",
       "</thead>\n",
       "<tbody>\n",
       "\t<tr><th scope=row> 1</th><td>1.362180</td><td>16.34196</td><td>26.10230</td><td> 4.904653</td><td>6.312827</td></tr>\n",
       "\t<tr><th scope=row> 2</th><td>1.306912</td><td>16.82004</td><td>27.22932</td><td> 5.727873</td><td>6.239040</td></tr>\n",
       "\t<tr><th scope=row> 3</th><td>1.238227</td><td>17.22966</td><td>26.43912</td><td> 5.678223</td><td>6.190272</td></tr>\n",
       "\t<tr><th scope=row> 4</th><td>1.161260</td><td>17.54954</td><td>25.25628</td><td> 6.009030</td><td>6.227173</td></tr>\n",
       "\t<tr><th scope=row> 5</th><td>1.226854</td><td>18.28114</td><td>25.48448</td><td> 6.698497</td><td>6.912927</td></tr>\n",
       "\t<tr><th scope=row> 6</th><td>1.221744</td><td>18.84493</td><td>25.02798</td><td> 6.497372</td><td>6.750804</td></tr>\n",
       "\t<tr><th scope=row> 7</th><td>1.200122</td><td>19.35455</td><td>24.74985</td><td> 7.239178</td><td>6.589662</td></tr>\n",
       "\t<tr><th scope=row> 8</th><td>1.119318</td><td>19.68707</td><td>23.96480</td><td> 7.356741</td><td>6.615465</td></tr>\n",
       "\t<tr><th scope=row> 9</th><td>1.114813</td><td>20.55171</td><td>23.35331</td><td> 7.513353</td><td>6.322187</td></tr>\n",
       "\t<tr><th scope=row>10</th><td>1.146855</td><td>20.97825</td><td>24.60893</td><td> 8.475585</td><td>6.336802</td></tr>\n",
       "\t<tr><th scope=row>11</th><td>1.107676</td><td>21.80851</td><td>23.70062</td><td> 8.600489</td><td>6.142660</td></tr>\n",
       "\t<tr><th scope=row>12</th><td>1.189231</td><td>22.29464</td><td>24.43692</td><td> 9.701406</td><td>6.085412</td></tr>\n",
       "\t<tr><th scope=row>13</th><td>1.217377</td><td>22.88490</td><td>24.38362</td><td> 9.944559</td><td>6.210840</td></tr>\n",
       "\t<tr><th scope=row>14</th><td>1.299734</td><td>23.71438</td><td>24.70304</td><td>10.407116</td><td>6.483489</td></tr>\n",
       "\t<tr><th scope=row>15</th><td>1.366870</td><td>24.08250</td><td>24.97481</td><td>11.169603</td><td>6.494154</td></tr>\n",
       "\t<tr><th scope=row>16</th><td>1.487204</td><td>24.78032</td><td>23.39273</td><td>11.408472</td><td>6.691431</td></tr>\n",
       "\t<tr><th scope=row>17</th><td>1.751664</td><td>26.82438</td><td>24.37901</td><td>11.686792</td><td>7.286209</td></tr>\n",
       "\t<tr><th scope=row>18</th><td>1.643786</td><td>27.60779</td><td>23.58848</td><td>10.501514</td><td>6.909760</td></tr>\n",
       "\t<tr><th scope=row>19</th><td>1.672603</td><td>27.96863</td><td>23.60758</td><td>11.274465</td><td>7.029080</td></tr>\n",
       "\t<tr><th scope=row>20</th><td>1.708992</td><td>28.82484</td><td>23.78056</td><td>11.348535</td><td>8.097079</td></tr>\n",
       "\t<tr><th scope=row>21</th><td>1.832524</td><td>29.39063</td><td>24.43642</td><td>13.059748</td><td>8.192738</td></tr>\n",
       "\t<tr><th scope=row>22</th><td>1.773842</td><td>29.86322</td><td>23.52150</td><td>12.285974</td><td>8.019125</td></tr>\n",
       "\t<tr><th scope=row>23</th><td>1.772871</td><td>30.20229</td><td>23.65354</td><td>12.165111</td><td>7.903239</td></tr>\n",
       "\t<tr><th scope=row>24</th><td>1.735481</td><td>30.63694</td><td>23.92200</td><td>12.440454</td><td>7.928918</td></tr>\n",
       "\t<tr><th scope=row>25</th><td>1.828789</td><td>31.10954</td><td>24.58114</td><td>13.376663</td><td>8.155307</td></tr>\n",
       "\t<tr><th scope=row>26</th><td>1.860643</td><td>32.13290</td><td>24.33771</td><td>13.536536</td><td>7.883826</td></tr>\n",
       "\t<tr><th scope=row>27</th><td>1.981405</td><td>32.68612</td><td>25.84752</td><td>14.956208</td><td>8.073142</td></tr>\n",
       "\t<tr><th scope=row>28</th><td>1.983011</td><td>32.94487</td><td>25.30292</td><td>14.630977</td><td>7.730152</td></tr>\n",
       "\t<tr><th scope=row>29</th><td>2.005983</td><td>33.75656</td><td>25.40424</td><td>15.213702</td><td>7.731625</td></tr>\n",
       "\t<tr><th scope=row>30</th><td>2.033407</td><td>34.38119</td><td>26.05838</td><td>15.975514</td><td>7.702038</td></tr>\n",
       "\t<tr><th scope=row>31</th><td>2.039322</td><td>34.42606</td><td>25.73567</td><td>16.025041</td><td>7.785585</td></tr>\n",
       "\t<tr><th scope=row>32</th><td>1.959666</td><td>34.72243</td><td>26.47546</td><td>17.095671</td><td>7.845809</td></tr>\n",
       "\t<tr><th scope=row>33</th><td>1.992580</td><td>34.87869</td><td>26.87224</td><td>18.110263</td><td>9.029339</td></tr>\n",
       "\t<tr><th scope=row>34</th><td>1.979194</td><td>35.30704</td><td>27.07002</td><td>18.509490</td><td>7.425972</td></tr>\n",
       "\t<tr><th scope=row>35</th><td>1.917105</td><td>35.69281</td><td>25.95479</td><td>18.819174</td><td>7.294806</td></tr>\n",
       "\t<tr><th scope=row>36</th><td>1.901017</td><td>36.01071</td><td>25.86016</td><td>18.878295</td><td>7.011353</td></tr>\n",
       "\t<tr><th scope=row>37</th><td>1.896178</td><td>36.24500</td><td>25.59963</td><td>19.418166</td><td>6.871863</td></tr>\n",
       "\t<tr><th scope=row>38</th><td>1.864728</td><td>36.40443</td><td>25.86633</td><td>19.754128</td><td>6.639747</td></tr>\n",
       "</tbody>\n",
       "</table>\n"
      ],
      "text/latex": [
       "A Time Series: 38 × 5\n",
       "\\begin{tabular}{r|lllll}\n",
       "  & IandP & Cancer & Circulatory & Respiratory & External\\\\\n",
       "\\hline\n",
       "\t 1 & 1.362180 & 16.34196 & 26.10230 &  4.904653 & 6.312827\\\\\n",
       "\t 2 & 1.306912 & 16.82004 & 27.22932 &  5.727873 & 6.239040\\\\\n",
       "\t 3 & 1.238227 & 17.22966 & 26.43912 &  5.678223 & 6.190272\\\\\n",
       "\t 4 & 1.161260 & 17.54954 & 25.25628 &  6.009030 & 6.227173\\\\\n",
       "\t 5 & 1.226854 & 18.28114 & 25.48448 &  6.698497 & 6.912927\\\\\n",
       "\t 6 & 1.221744 & 18.84493 & 25.02798 &  6.497372 & 6.750804\\\\\n",
       "\t 7 & 1.200122 & 19.35455 & 24.74985 &  7.239178 & 6.589662\\\\\n",
       "\t 8 & 1.119318 & 19.68707 & 23.96480 &  7.356741 & 6.615465\\\\\n",
       "\t 9 & 1.114813 & 20.55171 & 23.35331 &  7.513353 & 6.322187\\\\\n",
       "\t10 & 1.146855 & 20.97825 & 24.60893 &  8.475585 & 6.336802\\\\\n",
       "\t11 & 1.107676 & 21.80851 & 23.70062 &  8.600489 & 6.142660\\\\\n",
       "\t12 & 1.189231 & 22.29464 & 24.43692 &  9.701406 & 6.085412\\\\\n",
       "\t13 & 1.217377 & 22.88490 & 24.38362 &  9.944559 & 6.210840\\\\\n",
       "\t14 & 1.299734 & 23.71438 & 24.70304 & 10.407116 & 6.483489\\\\\n",
       "\t15 & 1.366870 & 24.08250 & 24.97481 & 11.169603 & 6.494154\\\\\n",
       "\t16 & 1.487204 & 24.78032 & 23.39273 & 11.408472 & 6.691431\\\\\n",
       "\t17 & 1.751664 & 26.82438 & 24.37901 & 11.686792 & 7.286209\\\\\n",
       "\t18 & 1.643786 & 27.60779 & 23.58848 & 10.501514 & 6.909760\\\\\n",
       "\t19 & 1.672603 & 27.96863 & 23.60758 & 11.274465 & 7.029080\\\\\n",
       "\t20 & 1.708992 & 28.82484 & 23.78056 & 11.348535 & 8.097079\\\\\n",
       "\t21 & 1.832524 & 29.39063 & 24.43642 & 13.059748 & 8.192738\\\\\n",
       "\t22 & 1.773842 & 29.86322 & 23.52150 & 12.285974 & 8.019125\\\\\n",
       "\t23 & 1.772871 & 30.20229 & 23.65354 & 12.165111 & 7.903239\\\\\n",
       "\t24 & 1.735481 & 30.63694 & 23.92200 & 12.440454 & 7.928918\\\\\n",
       "\t25 & 1.828789 & 31.10954 & 24.58114 & 13.376663 & 8.155307\\\\\n",
       "\t26 & 1.860643 & 32.13290 & 24.33771 & 13.536536 & 7.883826\\\\\n",
       "\t27 & 1.981405 & 32.68612 & 25.84752 & 14.956208 & 8.073142\\\\\n",
       "\t28 & 1.983011 & 32.94487 & 25.30292 & 14.630977 & 7.730152\\\\\n",
       "\t29 & 2.005983 & 33.75656 & 25.40424 & 15.213702 & 7.731625\\\\\n",
       "\t30 & 2.033407 & 34.38119 & 26.05838 & 15.975514 & 7.702038\\\\\n",
       "\t31 & 2.039322 & 34.42606 & 25.73567 & 16.025041 & 7.785585\\\\\n",
       "\t32 & 1.959666 & 34.72243 & 26.47546 & 17.095671 & 7.845809\\\\\n",
       "\t33 & 1.992580 & 34.87869 & 26.87224 & 18.110263 & 9.029339\\\\\n",
       "\t34 & 1.979194 & 35.30704 & 27.07002 & 18.509490 & 7.425972\\\\\n",
       "\t35 & 1.917105 & 35.69281 & 25.95479 & 18.819174 & 7.294806\\\\\n",
       "\t36 & 1.901017 & 36.01071 & 25.86016 & 18.878295 & 7.011353\\\\\n",
       "\t37 & 1.896178 & 36.24500 & 25.59963 & 19.418166 & 6.871863\\\\\n",
       "\t38 & 1.864728 & 36.40443 & 25.86633 & 19.754128 & 6.639747\\\\\n",
       "\\end{tabular}\n"
      ],
      "text/markdown": [
       "\n",
       "A Time Series: 38 × 5\n",
       "\n",
       "| <!--/--> | IandP | Cancer | Circulatory | Respiratory | External |\n",
       "|---|---|---|---|---|---|\n",
       "|  1 | 1.362180 | 16.34196 | 26.10230 |  4.904653 | 6.312827 |\n",
       "|  2 | 1.306912 | 16.82004 | 27.22932 |  5.727873 | 6.239040 |\n",
       "|  3 | 1.238227 | 17.22966 | 26.43912 |  5.678223 | 6.190272 |\n",
       "|  4 | 1.161260 | 17.54954 | 25.25628 |  6.009030 | 6.227173 |\n",
       "|  5 | 1.226854 | 18.28114 | 25.48448 |  6.698497 | 6.912927 |\n",
       "|  6 | 1.221744 | 18.84493 | 25.02798 |  6.497372 | 6.750804 |\n",
       "|  7 | 1.200122 | 19.35455 | 24.74985 |  7.239178 | 6.589662 |\n",
       "|  8 | 1.119318 | 19.68707 | 23.96480 |  7.356741 | 6.615465 |\n",
       "|  9 | 1.114813 | 20.55171 | 23.35331 |  7.513353 | 6.322187 |\n",
       "| 10 | 1.146855 | 20.97825 | 24.60893 |  8.475585 | 6.336802 |\n",
       "| 11 | 1.107676 | 21.80851 | 23.70062 |  8.600489 | 6.142660 |\n",
       "| 12 | 1.189231 | 22.29464 | 24.43692 |  9.701406 | 6.085412 |\n",
       "| 13 | 1.217377 | 22.88490 | 24.38362 |  9.944559 | 6.210840 |\n",
       "| 14 | 1.299734 | 23.71438 | 24.70304 | 10.407116 | 6.483489 |\n",
       "| 15 | 1.366870 | 24.08250 | 24.97481 | 11.169603 | 6.494154 |\n",
       "| 16 | 1.487204 | 24.78032 | 23.39273 | 11.408472 | 6.691431 |\n",
       "| 17 | 1.751664 | 26.82438 | 24.37901 | 11.686792 | 7.286209 |\n",
       "| 18 | 1.643786 | 27.60779 | 23.58848 | 10.501514 | 6.909760 |\n",
       "| 19 | 1.672603 | 27.96863 | 23.60758 | 11.274465 | 7.029080 |\n",
       "| 20 | 1.708992 | 28.82484 | 23.78056 | 11.348535 | 8.097079 |\n",
       "| 21 | 1.832524 | 29.39063 | 24.43642 | 13.059748 | 8.192738 |\n",
       "| 22 | 1.773842 | 29.86322 | 23.52150 | 12.285974 | 8.019125 |\n",
       "| 23 | 1.772871 | 30.20229 | 23.65354 | 12.165111 | 7.903239 |\n",
       "| 24 | 1.735481 | 30.63694 | 23.92200 | 12.440454 | 7.928918 |\n",
       "| 25 | 1.828789 | 31.10954 | 24.58114 | 13.376663 | 8.155307 |\n",
       "| 26 | 1.860643 | 32.13290 | 24.33771 | 13.536536 | 7.883826 |\n",
       "| 27 | 1.981405 | 32.68612 | 25.84752 | 14.956208 | 8.073142 |\n",
       "| 28 | 1.983011 | 32.94487 | 25.30292 | 14.630977 | 7.730152 |\n",
       "| 29 | 2.005983 | 33.75656 | 25.40424 | 15.213702 | 7.731625 |\n",
       "| 30 | 2.033407 | 34.38119 | 26.05838 | 15.975514 | 7.702038 |\n",
       "| 31 | 2.039322 | 34.42606 | 25.73567 | 16.025041 | 7.785585 |\n",
       "| 32 | 1.959666 | 34.72243 | 26.47546 | 17.095671 | 7.845809 |\n",
       "| 33 | 1.992580 | 34.87869 | 26.87224 | 18.110263 | 9.029339 |\n",
       "| 34 | 1.979194 | 35.30704 | 27.07002 | 18.509490 | 7.425972 |\n",
       "| 35 | 1.917105 | 35.69281 | 25.95479 | 18.819174 | 7.294806 |\n",
       "| 36 | 1.901017 | 36.01071 | 25.86016 | 18.878295 | 7.011353 |\n",
       "| 37 | 1.896178 | 36.24500 | 25.59963 | 19.418166 | 6.871863 |\n",
       "| 38 | 1.864728 | 36.40443 | 25.86633 | 19.754128 | 6.639747 |\n",
       "\n"
      ],
      "text/plain": [
       "   IandP    Cancer   Circulatory Respiratory External\n",
       " 1 1.362180 16.34196 26.10230     4.904653   6.312827\n",
       " 2 1.306912 16.82004 27.22932     5.727873   6.239040\n",
       " 3 1.238227 17.22966 26.43912     5.678223   6.190272\n",
       " 4 1.161260 17.54954 25.25628     6.009030   6.227173\n",
       " 5 1.226854 18.28114 25.48448     6.698497   6.912927\n",
       " 6 1.221744 18.84493 25.02798     6.497372   6.750804\n",
       " 7 1.200122 19.35455 24.74985     7.239178   6.589662\n",
       " 8 1.119318 19.68707 23.96480     7.356741   6.615465\n",
       " 9 1.114813 20.55171 23.35331     7.513353   6.322187\n",
       "10 1.146855 20.97825 24.60893     8.475585   6.336802\n",
       "11 1.107676 21.80851 23.70062     8.600489   6.142660\n",
       "12 1.189231 22.29464 24.43692     9.701406   6.085412\n",
       "13 1.217377 22.88490 24.38362     9.944559   6.210840\n",
       "14 1.299734 23.71438 24.70304    10.407116   6.483489\n",
       "15 1.366870 24.08250 24.97481    11.169603   6.494154\n",
       "16 1.487204 24.78032 23.39273    11.408472   6.691431\n",
       "17 1.751664 26.82438 24.37901    11.686792   7.286209\n",
       "18 1.643786 27.60779 23.58848    10.501514   6.909760\n",
       "19 1.672603 27.96863 23.60758    11.274465   7.029080\n",
       "20 1.708992 28.82484 23.78056    11.348535   8.097079\n",
       "21 1.832524 29.39063 24.43642    13.059748   8.192738\n",
       "22 1.773842 29.86322 23.52150    12.285974   8.019125\n",
       "23 1.772871 30.20229 23.65354    12.165111   7.903239\n",
       "24 1.735481 30.63694 23.92200    12.440454   7.928918\n",
       "25 1.828789 31.10954 24.58114    13.376663   8.155307\n",
       "26 1.860643 32.13290 24.33771    13.536536   7.883826\n",
       "27 1.981405 32.68612 25.84752    14.956208   8.073142\n",
       "28 1.983011 32.94487 25.30292    14.630977   7.730152\n",
       "29 2.005983 33.75656 25.40424    15.213702   7.731625\n",
       "30 2.033407 34.38119 26.05838    15.975514   7.702038\n",
       "31 2.039322 34.42606 25.73567    16.025041   7.785585\n",
       "32 1.959666 34.72243 26.47546    17.095671   7.845809\n",
       "33 1.992580 34.87869 26.87224    18.110263   9.029339\n",
       "34 1.979194 35.30704 27.07002    18.509490   7.425972\n",
       "35 1.917105 35.69281 25.95479    18.819174   7.294806\n",
       "36 1.901017 36.01071 25.86016    18.878295   7.011353\n",
       "37 1.896178 36.24500 25.59963    19.418166   6.871863\n",
       "38 1.864728 36.40443 25.86633    19.754128   6.639747"
      ]
     },
     "metadata": {},
     "output_type": "display_data"
    }
   ],
   "source": [
    "mort_ts = as.ts(10000*Mort_rate_jp_male[,2:6])\n",
    "mort_ts\n",
    "data <- gen_vec(mort_ts, p = 4, r = 1,\n",
    "                const = \"unrestricted\",\n",
    "                iterations = 5000, burnin = 1000)"
   ]
  },
  {
   "cell_type": "code",
   "execution_count": 36,
   "id": "06a79bce",
   "metadata": {
    "vscode": {
     "languageId": "r"
    }
   },
   "outputs": [],
   "source": [
    "#prior\n",
    "data <- add_priors(data,\n",
    "                   coint = list(v_i = 0, p_tau_i = 1),\n",
    "                   coef = list(v_i = 0, v_i_det = 0),\n",
    "                   sigma = list(df = 0, scale = .0001))"
   ]
  },
  {
   "cell_type": "code",
   "execution_count": 37,
   "id": "3a186cb7",
   "metadata": {
    "vscode": {
     "languageId": "r"
    }
   },
   "outputs": [
    {
     "name": "stdout",
     "output_type": "stream",
     "text": [
      "List of 4\n",
      " $ data   :List of 5\n",
      "  ..$ Y   : Time-Series [1:34, 1:5] from 5 to 38: 0.06559 -0.00511 -0.02162 -0.0808 -0.0045 ...\n",
      "  .. ..- attr(*, \"dimnames\")=List of 2\n",
      "  .. .. ..$ : NULL\n",
      "  .. .. ..$ : chr [1:5] \"d.IandP\" \"d.Cancer\" \"d.Circulatory\" \"d.Respiratory\" ...\n",
      "  ..$ W   : Time-Series [1:34, 1:5] from 5 to 38: 1.16 1.23 1.22 1.2 1.12 ...\n",
      "  .. ..- attr(*, \"dimnames\")=List of 2\n",
      "  .. .. ..$ : NULL\n",
      "  .. .. ..$ : chr [1:5] \"l.IandP\" \"l.Cancer\" \"l.Circulatory\" \"l.Respiratory\" ...\n",
      "  ..$ X   : Time-Series [1:34, 1:16] from 5 to 38: -0.07697 0.06559 -0.00511 -0.02162 -0.0808 ...\n",
      "  .. ..- attr(*, \"dimnames\")=List of 2\n",
      "  .. .. ..$ : NULL\n",
      "  .. .. ..$ : chr [1:16] \"d.IandP.l01\" \"d.Cancer.l01\" \"d.Circulatory.l01\" \"d.Respiratory.l01\" ...\n",
      "  ..$ SUR : num [1:170, 1:105] 1.16 0 0 0 0 ...\n",
      "  ..$ TEST: NULL\n",
      " $ model  :List of 9\n",
      "  ..$ type         : chr \"VEC\"\n",
      "  ..$ endogen      :List of 2\n",
      "  .. ..$ variables: chr [1:5] \"IandP\" \"Cancer\" \"Circulatory\" \"Respiratory\" ...\n",
      "  .. ..$ lags     : num 4\n",
      "  ..$ deterministic:List of 1\n",
      "  .. ..$ unrestricted: chr \"const\"\n",
      "  ..$ rank         : num 1\n",
      "  ..$ structural   : logi FALSE\n",
      "  ..$ tvp          : logi FALSE\n",
      "  ..$ sv           : logi FALSE\n",
      "  ..$ iterations   : num 5000\n",
      "  ..$ burnin       : num 1000\n",
      " $ priors :List of 3\n",
      "  ..$ cointegration   :List of 2\n",
      "  .. ..$ v_i    : num 0\n",
      "  .. ..$ p_tau_i: num [1:5, 1:5] 1 0 0 0 0 0 1 0 0 0 ...\n",
      "  ..$ noncointegration:List of 2\n",
      "  .. ..$ mu : num [1:80, 1] 0 0 0 0 0 0 0 0 0 0 ...\n",
      "  .. ..$ v_i: num [1:80, 1:80] 0 0 0 0 0 0 0 0 0 0 ...\n",
      "  ..$ sigma           :List of 3\n",
      "  .. ..$ type : chr \"wishart\"\n",
      "  .. ..$ df   : num 1\n",
      "  .. ..$ scale: num [1:5, 1:5] 1e-04 0e+00 0e+00 0e+00 0e+00 0e+00 1e-04 0e+00 0e+00 0e+00 ...\n",
      " $ initial:List of 3\n",
      "  ..$ noncointegration:List of 1\n",
      "  .. ..$ draw: num [1:80, 1] 0 0 0 0 0 0 0 0 0 0 ...\n",
      "  ..$ cointegration   :List of 1\n",
      "  .. ..$ beta: num [1:5, 1] 1 0 0 0 0\n",
      "  ..$ sigma           :List of 1\n",
      "  .. ..$ sigma_i: num [1:5, 1:5] 189 0 0 0 0 ...\n",
      "  .. .. ..- attr(*, \"dimnames\")=List of 2\n",
      "  .. .. .. ..$ : NULL\n",
      "  .. .. .. ..$ : NULL\n",
      " - attr(*, \"class\")= chr [1:2] \"bvecmodel\" \"list\"\n"
     ]
    }
   ],
   "source": [
    "str(data)"
   ]
  },
  {
   "cell_type": "code",
   "execution_count": 38,
   "id": "353d58b1",
   "metadata": {
    "vscode": {
     "languageId": "r"
    }
   },
   "outputs": [],
   "source": [
    "# Reset random number generator for reproducibility\n",
    "set.seed(7654321)\n",
    "\n",
    "# Obtain data matrices\n",
    "y <- t(data$data$Y)\n",
    "w <- t(data$data$W)\n",
    "x <- t(data$data$X)\n",
    "\n",
    "r <- data$model$rank # Set rank\n",
    "\n",
    "tt <- ncol(y) # Number of observations\n",
    "k <- nrow(y) # Number of endogenous variables\n",
    "k_w <- nrow(w) # Number of regressors in error correction term\n",
    "k_x <- nrow(x) # Number of differenced regressors and unrestrictec deterministic terms\n",
    "k_gamma <- k * k_x # Total number of non-cointegration coefficients\n",
    "\n",
    "k_alpha <- k * r # Number of elements in alpha\n",
    "k_beta <- k_w * r # Number of elements in beta"
   ]
  },
  {
   "cell_type": "code",
   "execution_count": 39,
   "id": "f22ebeab",
   "metadata": {
    "vscode": {
     "languageId": "r"
    }
   },
   "outputs": [],
   "source": [
    "# Priors\n",
    "a_mu_prior <- data$priors$noncointegration$mu # Prior means\n",
    "a_v_i_prior <- data$priors$noncointegration$v_i # Inverse of the prior covariance matrix\n",
    "\n",
    "v_i <- data$priors$cointegration$v_i\n",
    "p_tau_i <- data$priors$cointegration$p_tau_i\n",
    "\n",
    "sigma_df_prior <- data$priors$sigma$df # Prior degrees of freedom\n",
    "sigma_scale_prior <- data$priors$sigma$scale # Prior covariance matrix\n",
    "sigma_df_post <- tt + sigma_df_prior # Posterior degrees of freedom\n",
    "\n",
    "# Initial values\n",
    "beta <- matrix(0, k_w, r)\n",
    "beta[1:r, 1:r] <- diag(1, r)\n",
    "\n",
    "sigma_i <- diag(1 / .0001, k)\n",
    "\n",
    "g_i <- sigma_i\n",
    "\n",
    "iterations <- data$model$iterations # Number of iterations of the Gibbs sampler\n",
    "burnin <- data$model$burnin # Number of burn-in draws\n",
    "draws <- iterations + burnin # Total number of draws"
   ]
  },
  {
   "cell_type": "code",
   "execution_count": 40,
   "id": "c3af1825",
   "metadata": {
    "vscode": {
     "languageId": "r"
    }
   },
   "outputs": [],
   "source": [
    "# Data containers\n",
    "draws_alpha <- matrix(NA, k_alpha, iterations)\n",
    "draws_beta <- matrix(NA, k_beta, iterations)\n",
    "draws_pi <- matrix(NA, k * k_w, iterations)\n",
    "draws_gamma <- matrix(NA, k_gamma, iterations)\n",
    "draws_sigma <- matrix(NA, k^2, iterations)"
   ]
  },
  {
   "cell_type": "code",
   "execution_count": 41,
   "id": "db24a65d",
   "metadata": {
    "vscode": {
     "languageId": "r"
    }
   },
   "outputs": [
    {
     "data": {
      "text/html": [
       "<dl>\n",
       "\t<dt>$alpha</dt>\n",
       "\t\t<dd><table class=\"dataframe\">\n",
       "<caption>A matrix: 5 × 1 of type dbl</caption>\n",
       "<tbody>\n",
       "\t<tr><td>-0.01541729</td></tr>\n",
       "\t<tr><td>-0.08126747</td></tr>\n",
       "\t<tr><td> 0.06611913</td></tr>\n",
       "\t<tr><td>-0.02543868</td></tr>\n",
       "\t<tr><td>-0.02099168</td></tr>\n",
       "</tbody>\n",
       "</table>\n",
       "</dd>\n",
       "\t<dt>$beta</dt>\n",
       "\t\t<dd><table class=\"dataframe\">\n",
       "<caption>A matrix: 5 × 1 of type dbl</caption>\n",
       "<tbody>\n",
       "\t<tr><td>-0.4346785</td></tr>\n",
       "\t<tr><td> 0.6647217</td></tr>\n",
       "\t<tr><td>-0.1668935</td></tr>\n",
       "\t<tr><td>-0.4782467</td></tr>\n",
       "\t<tr><td> 0.3355984</td></tr>\n",
       "</tbody>\n",
       "</table>\n",
       "</dd>\n",
       "\t<dt>$Pi</dt>\n",
       "\t\t<dd><table class=\"dataframe\">\n",
       "<caption>A matrix: 5 × 5 of type dbl</caption>\n",
       "<tbody>\n",
       "\t<tr><td> 0.006701564</td><td>-0.01024821</td><td> 0.002573046</td><td> 0.007373269</td><td>-0.005174018</td></tr>\n",
       "\t<tr><td> 0.035325220</td><td>-0.05402025</td><td> 0.013563016</td><td> 0.038865901</td><td>-0.027273233</td></tr>\n",
       "\t<tr><td>-0.028740563</td><td> 0.04395082</td><td>-0.011034856</td><td>-0.031621258</td><td> 0.022189475</td></tr>\n",
       "\t<tr><td> 0.011057646</td><td>-0.01690964</td><td> 0.004245551</td><td> 0.012165965</td><td>-0.008537180</td></tr>\n",
       "\t<tr><td> 0.009124633</td><td>-0.01395363</td><td> 0.003503376</td><td> 0.010039204</td><td>-0.007044776</td></tr>\n",
       "</tbody>\n",
       "</table>\n",
       "</dd>\n",
       "\t<dt>$Gamma</dt>\n",
       "\t\t<dd><table class=\"dataframe\">\n",
       "<caption>A matrix: 80 × 1 of type dbl</caption>\n",
       "<tbody>\n",
       "\t<tr><td> 0.26586418</td></tr>\n",
       "\t<tr><td> 4.65511816</td></tr>\n",
       "\t<tr><td>-1.73829191</td></tr>\n",
       "\t<tr><td>-3.50950910</td></tr>\n",
       "\t<tr><td>-1.43615286</td></tr>\n",
       "\t<tr><td>-0.02697860</td></tr>\n",
       "\t<tr><td>-0.50991395</td></tr>\n",
       "\t<tr><td> 1.09602781</td></tr>\n",
       "\t<tr><td> 0.40835387</td></tr>\n",
       "\t<tr><td>-0.15522152</td></tr>\n",
       "\t<tr><td>-0.05311387</td></tr>\n",
       "\t<tr><td>-0.27730246</td></tr>\n",
       "\t<tr><td>-0.18299300</td></tr>\n",
       "\t<tr><td> 0.14162376</td></tr>\n",
       "\t<tr><td>-0.16670765</td></tr>\n",
       "\t<tr><td> 0.01427494</td></tr>\n",
       "\t<tr><td>-0.05498675</td></tr>\n",
       "\t<tr><td>-0.39529693</td></tr>\n",
       "\t<tr><td>-0.45133721</td></tr>\n",
       "\t<tr><td> 0.31026842</td></tr>\n",
       "\t<tr><td> 0.02609915</td></tr>\n",
       "\t<tr><td>-0.08496846</td></tr>\n",
       "\t<tr><td> 0.61733831</td></tr>\n",
       "\t<tr><td> 0.49885339</td></tr>\n",
       "\t<tr><td>-0.04776540</td></tr>\n",
       "\t<tr><td> 0.66694148</td></tr>\n",
       "\t<tr><td> 2.49258398</td></tr>\n",
       "\t<tr><td>-3.70609680</td></tr>\n",
       "\t<tr><td>-0.28860848</td></tr>\n",
       "\t<tr><td> 6.04736147</td></tr>\n",
       "\t<tr><td>...</td></tr>\n",
       "\t<tr><td> 0.13441680</td></tr>\n",
       "\t<tr><td> 1.35051927</td></tr>\n",
       "\t<tr><td>-4.28934707</td></tr>\n",
       "\t<tr><td>-5.53865917</td></tr>\n",
       "\t<tr><td>-2.50074817</td></tr>\n",
       "\t<tr><td>-0.03839903</td></tr>\n",
       "\t<tr><td>-0.17850086</td></tr>\n",
       "\t<tr><td> 0.67335058</td></tr>\n",
       "\t<tr><td> 0.41334467</td></tr>\n",
       "\t<tr><td> 0.85622708</td></tr>\n",
       "\t<tr><td> 0.06416940</td></tr>\n",
       "\t<tr><td> 0.14668591</td></tr>\n",
       "\t<tr><td> 0.20516252</td></tr>\n",
       "\t<tr><td> 0.43452896</td></tr>\n",
       "\t<tr><td> 0.26083303</td></tr>\n",
       "\t<tr><td>-0.09232480</td></tr>\n",
       "\t<tr><td>-0.37019455</td></tr>\n",
       "\t<tr><td> 0.38083415</td></tr>\n",
       "\t<tr><td> 0.11451219</td></tr>\n",
       "\t<tr><td>-0.13337727</td></tr>\n",
       "\t<tr><td>-0.05484332</td></tr>\n",
       "\t<tr><td>-0.02547504</td></tr>\n",
       "\t<tr><td>-0.31642444</td></tr>\n",
       "\t<tr><td>-0.45294215</td></tr>\n",
       "\t<tr><td>-0.16092123</td></tr>\n",
       "\t<tr><td> 0.30699277</td></tr>\n",
       "\t<tr><td> 2.09755412</td></tr>\n",
       "\t<tr><td>-1.22601328</td></tr>\n",
       "\t<tr><td> 0.86364723</td></tr>\n",
       "\t<tr><td> 0.09560426</td></tr>\n",
       "</tbody>\n",
       "</table>\n",
       "</dd>\n",
       "</dl>\n"
      ],
      "text/latex": [
       "\\begin{description}\n",
       "\\item[\\$alpha] A matrix: 5 × 1 of type dbl\n",
       "\\begin{tabular}{l}\n",
       "\t -0.01541729\\\\\n",
       "\t -0.08126747\\\\\n",
       "\t  0.06611913\\\\\n",
       "\t -0.02543868\\\\\n",
       "\t -0.02099168\\\\\n",
       "\\end{tabular}\n",
       "\n",
       "\\item[\\$beta] A matrix: 5 × 1 of type dbl\n",
       "\\begin{tabular}{l}\n",
       "\t -0.4346785\\\\\n",
       "\t  0.6647217\\\\\n",
       "\t -0.1668935\\\\\n",
       "\t -0.4782467\\\\\n",
       "\t  0.3355984\\\\\n",
       "\\end{tabular}\n",
       "\n",
       "\\item[\\$Pi] A matrix: 5 × 5 of type dbl\n",
       "\\begin{tabular}{lllll}\n",
       "\t  0.006701564 & -0.01024821 &  0.002573046 &  0.007373269 & -0.005174018\\\\\n",
       "\t  0.035325220 & -0.05402025 &  0.013563016 &  0.038865901 & -0.027273233\\\\\n",
       "\t -0.028740563 &  0.04395082 & -0.011034856 & -0.031621258 &  0.022189475\\\\\n",
       "\t  0.011057646 & -0.01690964 &  0.004245551 &  0.012165965 & -0.008537180\\\\\n",
       "\t  0.009124633 & -0.01395363 &  0.003503376 &  0.010039204 & -0.007044776\\\\\n",
       "\\end{tabular}\n",
       "\n",
       "\\item[\\$Gamma] A matrix: 80 × 1 of type dbl\n",
       "\\begin{tabular}{l}\n",
       "\t  0.26586418\\\\\n",
       "\t  4.65511816\\\\\n",
       "\t -1.73829191\\\\\n",
       "\t -3.50950910\\\\\n",
       "\t -1.43615286\\\\\n",
       "\t -0.02697860\\\\\n",
       "\t -0.50991395\\\\\n",
       "\t  1.09602781\\\\\n",
       "\t  0.40835387\\\\\n",
       "\t -0.15522152\\\\\n",
       "\t -0.05311387\\\\\n",
       "\t -0.27730246\\\\\n",
       "\t -0.18299300\\\\\n",
       "\t  0.14162376\\\\\n",
       "\t -0.16670765\\\\\n",
       "\t  0.01427494\\\\\n",
       "\t -0.05498675\\\\\n",
       "\t -0.39529693\\\\\n",
       "\t -0.45133721\\\\\n",
       "\t  0.31026842\\\\\n",
       "\t  0.02609915\\\\\n",
       "\t -0.08496846\\\\\n",
       "\t  0.61733831\\\\\n",
       "\t  0.49885339\\\\\n",
       "\t -0.04776540\\\\\n",
       "\t  0.66694148\\\\\n",
       "\t  2.49258398\\\\\n",
       "\t -3.70609680\\\\\n",
       "\t -0.28860848\\\\\n",
       "\t  6.04736147\\\\\n",
       "\t ...\\\\\n",
       "\t  0.13441680\\\\\n",
       "\t  1.35051927\\\\\n",
       "\t -4.28934707\\\\\n",
       "\t -5.53865917\\\\\n",
       "\t -2.50074817\\\\\n",
       "\t -0.03839903\\\\\n",
       "\t -0.17850086\\\\\n",
       "\t  0.67335058\\\\\n",
       "\t  0.41334467\\\\\n",
       "\t  0.85622708\\\\\n",
       "\t  0.06416940\\\\\n",
       "\t  0.14668591\\\\\n",
       "\t  0.20516252\\\\\n",
       "\t  0.43452896\\\\\n",
       "\t  0.26083303\\\\\n",
       "\t -0.09232480\\\\\n",
       "\t -0.37019455\\\\\n",
       "\t  0.38083415\\\\\n",
       "\t  0.11451219\\\\\n",
       "\t -0.13337727\\\\\n",
       "\t -0.05484332\\\\\n",
       "\t -0.02547504\\\\\n",
       "\t -0.31642444\\\\\n",
       "\t -0.45294215\\\\\n",
       "\t -0.16092123\\\\\n",
       "\t  0.30699277\\\\\n",
       "\t  2.09755412\\\\\n",
       "\t -1.22601328\\\\\n",
       "\t  0.86364723\\\\\n",
       "\t  0.09560426\\\\\n",
       "\\end{tabular}\n",
       "\n",
       "\\end{description}\n"
      ],
      "text/markdown": [
       "$alpha\n",
       ":   \n",
       "A matrix: 5 × 1 of type dbl\n",
       "\n",
       "| -0.01541729 |\n",
       "| -0.08126747 |\n",
       "|  0.06611913 |\n",
       "| -0.02543868 |\n",
       "| -0.02099168 |\n",
       "\n",
       "\n",
       "$beta\n",
       ":   \n",
       "A matrix: 5 × 1 of type dbl\n",
       "\n",
       "| -0.4346785 |\n",
       "|  0.6647217 |\n",
       "| -0.1668935 |\n",
       "| -0.4782467 |\n",
       "|  0.3355984 |\n",
       "\n",
       "\n",
       "$Pi\n",
       ":   \n",
       "A matrix: 5 × 5 of type dbl\n",
       "\n",
       "|  0.006701564 | -0.01024821 |  0.002573046 |  0.007373269 | -0.005174018 |\n",
       "|  0.035325220 | -0.05402025 |  0.013563016 |  0.038865901 | -0.027273233 |\n",
       "| -0.028740563 |  0.04395082 | -0.011034856 | -0.031621258 |  0.022189475 |\n",
       "|  0.011057646 | -0.01690964 |  0.004245551 |  0.012165965 | -0.008537180 |\n",
       "|  0.009124633 | -0.01395363 |  0.003503376 |  0.010039204 | -0.007044776 |\n",
       "\n",
       "\n",
       "$Gamma\n",
       ":   \n",
       "A matrix: 80 × 1 of type dbl\n",
       "\n",
       "|  0.26586418 |\n",
       "|  4.65511816 |\n",
       "| -1.73829191 |\n",
       "| -3.50950910 |\n",
       "| -1.43615286 |\n",
       "| -0.02697860 |\n",
       "| -0.50991395 |\n",
       "|  1.09602781 |\n",
       "|  0.40835387 |\n",
       "| -0.15522152 |\n",
       "| -0.05311387 |\n",
       "| -0.27730246 |\n",
       "| -0.18299300 |\n",
       "|  0.14162376 |\n",
       "| -0.16670765 |\n",
       "|  0.01427494 |\n",
       "| -0.05498675 |\n",
       "| -0.39529693 |\n",
       "| -0.45133721 |\n",
       "|  0.31026842 |\n",
       "|  0.02609915 |\n",
       "| -0.08496846 |\n",
       "|  0.61733831 |\n",
       "|  0.49885339 |\n",
       "| -0.04776540 |\n",
       "|  0.66694148 |\n",
       "|  2.49258398 |\n",
       "| -3.70609680 |\n",
       "| -0.28860848 |\n",
       "|  6.04736147 |\n",
       "| ... |\n",
       "|  0.13441680 |\n",
       "|  1.35051927 |\n",
       "| -4.28934707 |\n",
       "| -5.53865917 |\n",
       "| -2.50074817 |\n",
       "| -0.03839903 |\n",
       "| -0.17850086 |\n",
       "|  0.67335058 |\n",
       "|  0.41334467 |\n",
       "|  0.85622708 |\n",
       "|  0.06416940 |\n",
       "|  0.14668591 |\n",
       "|  0.20516252 |\n",
       "|  0.43452896 |\n",
       "|  0.26083303 |\n",
       "| -0.09232480 |\n",
       "| -0.37019455 |\n",
       "|  0.38083415 |\n",
       "|  0.11451219 |\n",
       "| -0.13337727 |\n",
       "| -0.05484332 |\n",
       "| -0.02547504 |\n",
       "| -0.31642444 |\n",
       "| -0.45294215 |\n",
       "| -0.16092123 |\n",
       "|  0.30699277 |\n",
       "|  2.09755412 |\n",
       "| -1.22601328 |\n",
       "|  0.86364723 |\n",
       "|  0.09560426 |\n",
       "\n",
       "\n",
       "\n",
       "\n"
      ],
      "text/plain": [
       "$alpha\n",
       "            [,1]\n",
       "[1,] -0.01541729\n",
       "[2,] -0.08126747\n",
       "[3,]  0.06611913\n",
       "[4,] -0.02543868\n",
       "[5,] -0.02099168\n",
       "\n",
       "$beta\n",
       "           [,1]\n",
       "[1,] -0.4346785\n",
       "[2,]  0.6647217\n",
       "[3,] -0.1668935\n",
       "[4,] -0.4782467\n",
       "[5,]  0.3355984\n",
       "\n",
       "$Pi\n",
       "             [,1]        [,2]         [,3]         [,4]         [,5]\n",
       "[1,]  0.006701564 -0.01024821  0.002573046  0.007373269 -0.005174018\n",
       "[2,]  0.035325220 -0.05402025  0.013563016  0.038865901 -0.027273233\n",
       "[3,] -0.028740563  0.04395082 -0.011034856 -0.031621258  0.022189475\n",
       "[4,]  0.011057646 -0.01690964  0.004245551  0.012165965 -0.008537180\n",
       "[5,]  0.009124633 -0.01395363  0.003503376  0.010039204 -0.007044776\n",
       "\n",
       "$Gamma\n",
       "              [,1]\n",
       " [1,]  0.265864183\n",
       " [2,]  4.655118162\n",
       " [3,] -1.738291913\n",
       " [4,] -3.509509097\n",
       " [5,] -1.436152857\n",
       " [6,] -0.026978602\n",
       " [7,] -0.509913948\n",
       " [8,]  1.096027809\n",
       " [9,]  0.408353868\n",
       "[10,] -0.155221515\n",
       "[11,] -0.053113874\n",
       "[12,] -0.277302460\n",
       "[13,] -0.182992996\n",
       "[14,]  0.141623763\n",
       "[15,] -0.166707647\n",
       "[16,]  0.014274941\n",
       "[17,] -0.054986754\n",
       "[18,] -0.395296931\n",
       "[19,] -0.451337214\n",
       "[20,]  0.310268425\n",
       "[21,]  0.026099149\n",
       "[22,] -0.084968458\n",
       "[23,]  0.617338311\n",
       "[24,]  0.498853392\n",
       "[25,] -0.047765395\n",
       "[26,]  0.666941482\n",
       "[27,]  2.492583983\n",
       "[28,] -3.706096795\n",
       "[29,] -0.288608479\n",
       "[30,]  6.047361471\n",
       "[31,] -0.081265061\n",
       "[32,] -0.404088039\n",
       "[33,] -0.076148703\n",
       "[34,] -0.103346797\n",
       "[35,] -0.339590635\n",
       "[36,]  0.050853810\n",
       "[37,]  0.007112946\n",
       "[38,]  0.773101679\n",
       "[39,]  0.784137366\n",
       "[40,] -0.160916411\n",
       "[41,] -0.077962666\n",
       "[42,] -0.205269834\n",
       "[43,] -0.481352424\n",
       "[44,] -0.677465816\n",
       "[45,] -0.491579182\n",
       "[46,] -0.022699388\n",
       "[47,] -0.009496209\n",
       "[48,] -0.241891782\n",
       "[49,] -0.078736067\n",
       "[50,] -0.051884990\n",
       "[51,]  0.134416798\n",
       "[52,]  1.350519268\n",
       "[53,] -4.289347074\n",
       "[54,] -5.538659170\n",
       "[55,] -2.500748169\n",
       "[56,] -0.038399026\n",
       "[57,] -0.178500862\n",
       "[58,]  0.673350575\n",
       "[59,]  0.413344666\n",
       "[60,]  0.856227084\n",
       "[61,]  0.064169400\n",
       "[62,]  0.146685910\n",
       "[63,]  0.205162520\n",
       "[64,]  0.434528959\n",
       "[65,]  0.260833025\n",
       "[66,] -0.092324800\n",
       "[67,] -0.370194554\n",
       "[68,]  0.380834147\n",
       "[69,]  0.114512194\n",
       "[70,] -0.133377274\n",
       "[71,] -0.054843316\n",
       "[72,] -0.025475035\n",
       "[73,] -0.316424443\n",
       "[74,] -0.452942153\n",
       "[75,] -0.160921233\n",
       "[76,]  0.306992766\n",
       "[77,]  2.097554116\n",
       "[78,] -1.226013277\n",
       "[79,]  0.863647225\n",
       "[80,]  0.095604259\n"
      ]
     },
     "metadata": {},
     "output_type": "display_data"
    }
   ],
   "source": [
    "post_coint_kls(y = y, beta = beta, w = w, x = x, sigma_i = sigma_i,\n",
    "                           v_i = v_i, p_tau_i = p_tau_i, g_i = g_i,\n",
    "                           gamma_mu_prior = a_mu_prior,\n",
    "                           gamma_v_i_prior = a_v_i_prior)"
   ]
  },
  {
   "cell_type": "code",
   "execution_count": 44,
   "id": "e3a85590",
   "metadata": {
    "vscode": {
     "languageId": "r"
    }
   },
   "outputs": [],
   "source": [
    "# Start Gibbs sampler\n",
    "for (draw in 1:draws) {\n",
    "  \n",
    "  # Draw conditional mean parameters\n",
    "  temp <- post_coint_kls(y = y, beta = beta, w = w, x = x, sigma_i = sigma_i,\n",
    "                           v_i = v_i, p_tau_i = p_tau_i, g_i = g_i,\n",
    "                           gamma_mu_prior = a_mu_prior,\n",
    "                           gamma_v_i_prior = a_v_i_prior)\n",
    "  alpha <- temp$alpha\n",
    "  beta <- temp$beta\n",
    "  Pi <- temp$Pi\n",
    "  gamma <- temp$Gamma\n",
    "  \n",
    "  # Draw variance-covariance matrix\n",
    "  u <- y - Pi %*% w - matrix(gamma, k) %*% x\n",
    "  sigma_scale_post <- solve(tcrossprod(u) + v_i * alpha %*% tcrossprod(crossprod(beta, p_tau_i) %*% beta, alpha))\n",
    "  sigma_i <- matrix(rWishart(1, sigma_df_post, sigma_scale_post)[,, 1], k)\n",
    "  sigma <- solve(sigma_i)\n",
    "  \n",
    "  # Update g_i\n",
    "  g_i <- sigma_i\n",
    "  \n",
    "  # Store draws\n",
    "  if (draw > burnin) {\n",
    "    draws_alpha[, draw - burnin] <- alpha\n",
    "    draws_beta[, draw - burnin] <- beta\n",
    "    draws_pi[, draw - burnin] <- Pi\n",
    "    draws_gamma[, draw - burnin] <- gamma\n",
    "    draws_sigma[, draw - burnin] <- sigma\n",
    "  }\n",
    "}"
   ]
  },
  {
   "cell_type": "code",
   "execution_count": 46,
   "id": "e17ee46d",
   "metadata": {
    "vscode": {
     "languageId": "r"
    }
   },
   "outputs": [],
   "source": [
    "k_nondet <- (k_x - 4) * k"
   ]
  },
  {
   "cell_type": "code",
   "execution_count": 47,
   "id": "dd391b27",
   "metadata": {
    "vscode": {
     "languageId": "r"
    }
   },
   "outputs": [],
   "source": [
    "bvec_est <- bvec(y = data$data$Y, w = data$data$W,\n",
    "                 x = data$data$X[, 1:6], x_d = data$data$X[, 7:10],\n",
    "                 Pi = draws_pi, Gamma = draws_gamma[1:k_nondet,], \n",
    "                 C = draws_gamma[(k_nondet + 1):nrow(draws_gamma),], \n",
    "                 Sigma = draws_sigma)"
   ]
  },
  {
   "cell_type": "code",
   "execution_count": null,
   "id": "3cb8b8dc",
   "metadata": {
    "vscode": {
     "languageId": "r"
    }
   },
   "outputs": [],
   "source": []
  },
  {
   "cell_type": "code",
   "execution_count": null,
   "id": "642ae07b",
   "metadata": {
    "vscode": {
     "languageId": "r"
    }
   },
   "outputs": [],
   "source": [
    "x"
   ]
  },
  {
   "cell_type": "code",
   "execution_count": null,
   "id": "d9f37e62",
   "metadata": {
    "vscode": {
     "languageId": "r"
    }
   },
   "outputs": [],
   "source": []
  }
 ],
 "metadata": {
  "kernelspec": {
   "display_name": "R",
   "language": "R",
   "name": "ir"
  },
  "language_info": {
   "codemirror_mode": "r",
   "file_extension": ".r",
   "mimetype": "text/x-r-source",
   "name": "R",
   "pygments_lexer": "r",
   "version": "4.1.1"
  },
  "toc": {
   "base_numbering": 1,
   "nav_menu": {},
   "number_sections": true,
   "sideBar": true,
   "skip_h1_title": false,
   "title_cell": "Table of Contents",
   "title_sidebar": "Contents",
   "toc_cell": false,
   "toc_position": {},
   "toc_section_display": true,
   "toc_window_display": false
  }
 },
 "nbformat": 4,
 "nbformat_minor": 5
}
